{
 "cells": [
  {
   "cell_type": "code",
   "execution_count": 325,
   "id": "d1f8a76e",
   "metadata": {},
   "outputs": [],
   "source": [
    "import pandas as pd"
   ]
  },
  {
   "cell_type": "code",
   "execution_count": 326,
   "id": "c66fec5f",
   "metadata": {},
   "outputs": [
    {
     "data": {
      "text/html": [
       "<div>\n",
       "<style scoped>\n",
       "    .dataframe tbody tr th:only-of-type {\n",
       "        vertical-align: middle;\n",
       "    }\n",
       "\n",
       "    .dataframe tbody tr th {\n",
       "        vertical-align: top;\n",
       "    }\n",
       "\n",
       "    .dataframe thead th {\n",
       "        text-align: right;\n",
       "    }\n",
       "</style>\n",
       "<table border=\"1\" class=\"dataframe\">\n",
       "  <thead>\n",
       "    <tr style=\"text-align: right;\">\n",
       "      <th></th>\n",
       "      <th>user</th>\n",
       "      <th>rating</th>\n",
       "      <th>review</th>\n",
       "    </tr>\n",
       "  </thead>\n",
       "  <tbody>\n",
       "    <tr>\n",
       "      <th>0</th>\n",
       "      <td>مستخدم Google</td>\n",
       "      <td>1</td>\n",
       "      <td>سحبو للمره الثانيه رصيد من البطاقه و لغو الطلب...</td>\n",
       "    </tr>\n",
       "    <tr>\n",
       "      <th>1</th>\n",
       "      <td>مستخدم Google</td>\n",
       "      <td>1</td>\n",
       "      <td>رائع</td>\n",
       "    </tr>\n",
       "    <tr>\n",
       "      <th>2</th>\n",
       "      <td>مستخدم Google</td>\n",
       "      <td>5</td>\n",
       "      <td>طلبات ممتاز</td>\n",
       "    </tr>\n",
       "    <tr>\n",
       "      <th>3</th>\n",
       "      <td>مستخدم Google</td>\n",
       "      <td>5</td>\n",
       "      <td>🤤💗😉</td>\n",
       "    </tr>\n",
       "    <tr>\n",
       "      <th>4</th>\n",
       "      <td>مستخدم Google</td>\n",
       "      <td>1</td>\n",
       "      <td>والله ما انصح بطلبات ما عندهم مصدقيه بالوقت بس...</td>\n",
       "    </tr>\n",
       "  </tbody>\n",
       "</table>\n",
       "</div>"
      ],
      "text/plain": [
       "            user  rating                                             review\n",
       "0  مستخدم Google       1  سحبو للمره الثانيه رصيد من البطاقه و لغو الطلب...\n",
       "1  مستخدم Google       1                                               رائع\n",
       "2  مستخدم Google       5                                        طلبات ممتاز\n",
       "3  مستخدم Google       5                                                🤤💗😉\n",
       "4  مستخدم Google       1  والله ما انصح بطلبات ما عندهم مصدقيه بالوقت بس..."
      ]
     },
     "execution_count": 326,
     "metadata": {},
     "output_type": "execute_result"
    }
   ],
   "source": [
    "df = pd.read_csv(r'C:\\Users\\mw865\\Desktop\\NTI_Project\\data\\raw\\egypt_data.csv')\n",
    "\n",
    "df.head(5)"
   ]
  },
  {
   "cell_type": "code",
   "execution_count": 327,
   "id": "d374039b",
   "metadata": {},
   "outputs": [
    {
     "data": {
      "text/plain": [
       "user      0\n",
       "rating    0\n",
       "review    8\n",
       "dtype: int64"
      ]
     },
     "execution_count": 327,
     "metadata": {},
     "output_type": "execute_result"
    }
   ],
   "source": [
    "df.isna().sum()"
   ]
  },
  {
   "cell_type": "code",
   "execution_count": 328,
   "id": "dbe3018c",
   "metadata": {},
   "outputs": [
    {
     "data": {
      "text/plain": [
       "np.int64(27886)"
      ]
     },
     "execution_count": 328,
     "metadata": {},
     "output_type": "execute_result"
    }
   ],
   "source": [
    "df.duplicated().sum()"
   ]
  },
  {
   "cell_type": "code",
   "execution_count": 329,
   "id": "46bd2c8e",
   "metadata": {},
   "outputs": [],
   "source": [
    "df = df.drop_duplicates().reset_index(drop=True)\n",
    "df = df.dropna().reset_index(drop=True)\n",
    "df = df.drop(labels=\"user\" , axis=1)"
   ]
  },
  {
   "cell_type": "code",
   "execution_count": 330,
   "id": "f9ab65eb",
   "metadata": {},
   "outputs": [
    {
     "name": "stdout",
     "output_type": "stream",
     "text": [
      "<class 'pandas.core.frame.DataFrame'>\n",
      "RangeIndex: 47810 entries, 0 to 47809\n",
      "Data columns (total 2 columns):\n",
      " #   Column  Non-Null Count  Dtype \n",
      "---  ------  --------------  ----- \n",
      " 0   rating  47810 non-null  int64 \n",
      " 1   review  47810 non-null  object\n",
      "dtypes: int64(1), object(1)\n",
      "memory usage: 747.2+ KB\n"
     ]
    }
   ],
   "source": [
    "df.info()"
   ]
  },
  {
   "cell_type": "code",
   "execution_count": 331,
   "id": "72bd99d6",
   "metadata": {},
   "outputs": [
    {
     "data": {
      "text/plain": [
       "sentiment\n",
       "positive    30465\n",
       "negative    17345\n",
       "Name: count, dtype: int64"
      ]
     },
     "execution_count": 331,
     "metadata": {},
     "output_type": "execute_result"
    }
   ],
   "source": [
    "def label_sentiment(rating):\n",
    "    if rating <= 2:\n",
    "        return \"negative\"\n",
    "    else:\n",
    "        return \"positive\"\n",
    "\n",
    "df['sentiment'] = df['rating'].apply(label_sentiment)\n",
    "df['sentiment'].value_counts()"
   ]
  },
  {
   "cell_type": "code",
   "execution_count": 332,
   "id": "a79454fa",
   "metadata": {},
   "outputs": [
    {
     "data": {
      "text/html": [
       "<div>\n",
       "<style scoped>\n",
       "    .dataframe tbody tr th:only-of-type {\n",
       "        vertical-align: middle;\n",
       "    }\n",
       "\n",
       "    .dataframe tbody tr th {\n",
       "        vertical-align: top;\n",
       "    }\n",
       "\n",
       "    .dataframe thead th {\n",
       "        text-align: right;\n",
       "    }\n",
       "</style>\n",
       "<table border=\"1\" class=\"dataframe\">\n",
       "  <thead>\n",
       "    <tr style=\"text-align: right;\">\n",
       "      <th></th>\n",
       "      <th>rating</th>\n",
       "      <th>review</th>\n",
       "      <th>sentiment</th>\n",
       "    </tr>\n",
       "  </thead>\n",
       "  <tbody>\n",
       "    <tr>\n",
       "      <th>0</th>\n",
       "      <td>1</td>\n",
       "      <td>سحبو للمره الثانيه رصيد من البطاقه و لغو الطلب...</td>\n",
       "      <td>negative</td>\n",
       "    </tr>\n",
       "    <tr>\n",
       "      <th>1</th>\n",
       "      <td>1</td>\n",
       "      <td>رائع</td>\n",
       "      <td>negative</td>\n",
       "    </tr>\n",
       "    <tr>\n",
       "      <th>2</th>\n",
       "      <td>5</td>\n",
       "      <td>طلبات ممتاز</td>\n",
       "      <td>positive</td>\n",
       "    </tr>\n",
       "    <tr>\n",
       "      <th>3</th>\n",
       "      <td>5</td>\n",
       "      <td>🤤💗😉</td>\n",
       "      <td>positive</td>\n",
       "    </tr>\n",
       "    <tr>\n",
       "      <th>4</th>\n",
       "      <td>1</td>\n",
       "      <td>والله ما انصح بطلبات ما عندهم مصدقيه بالوقت بس...</td>\n",
       "      <td>negative</td>\n",
       "    </tr>\n",
       "  </tbody>\n",
       "</table>\n",
       "</div>"
      ],
      "text/plain": [
       "   rating                                             review sentiment\n",
       "0       1  سحبو للمره الثانيه رصيد من البطاقه و لغو الطلب...  negative\n",
       "1       1                                               رائع  negative\n",
       "2       5                                        طلبات ممتاز  positive\n",
       "3       5                                                🤤💗😉  positive\n",
       "4       1  والله ما انصح بطلبات ما عندهم مصدقيه بالوقت بس...  negative"
      ]
     },
     "execution_count": 332,
     "metadata": {},
     "output_type": "execute_result"
    }
   ],
   "source": [
    "df.head()"
   ]
  },
  {
   "cell_type": "code",
   "execution_count": 333,
   "id": "9e09805e",
   "metadata": {},
   "outputs": [],
   "source": [
    "import re\n",
    "\n",
    "def normalize_arabic(text):\n",
    "  # Remove diacritics\n",
    "    text = re.sub(r'[\\u064B-\\u065F\\u0670]', '', text)\n",
    "  # Normalize letters variations\n",
    "    text = re.sub(\"[إأآا]\", \"ا\", text)\n",
    "    text = re.sub(\"ى\", \"ي\", text)\n",
    "    text = re.sub(\"ؤ\", \"ء\", text)\n",
    "    text = re.sub(\"ئ\", \"ء\", text)\n",
    "    text = re.sub(\"ة\", \"ه\", text)\n",
    "    text = re.sub(\"گ\", \"ك\", text)\n",
    "    text = re.sub(\"ڤ\", \"ف\", text)\n",
    "    text = re.sub(\"چ\", \"ج\", text)\n",
    "    text = re.sub(\"پ\", \"ب\", text)\n",
    "    text = re.sub(\"ڜ\", \"ش\", text)\n",
    "    text = re.sub(\"ڪ\", \"ك\", text)\n",
    "    text = re.sub(\"ڧ\", \"ق\", text)\n",
    "    text = re.sub(\"ٱ\", \"ا\", text)\n",
    "    \n",
    "    text = re.sub(r'\\s+', ' ', text).strip()\n",
    "    \n",
    "    return text\n",
    "\n",
    "df['review'] = df['review'].apply(normalize_arabic)"
   ]
  },
  {
   "cell_type": "code",
   "execution_count": 334,
   "id": "20c07406",
   "metadata": {},
   "outputs": [],
   "source": [
    "# !pip install emoji -q"
   ]
  },
  {
   "cell_type": "code",
   "execution_count": 335,
   "id": "4b1dfba2",
   "metadata": {},
   "outputs": [],
   "source": [
    "import emoji\n",
    "\n",
    "def handle_emojis(text, mode='remove'):\n",
    "    if mode == 'remove':\n",
    "        return emoji.replace_emoji(text, '')\n",
    "    \n",
    "df['review'] = df['review'].apply(handle_emojis)\n",
    "    "
   ]
  },
  {
   "cell_type": "code",
   "execution_count": 336,
   "id": "5ecd5aa9",
   "metadata": {},
   "outputs": [],
   "source": [
    "# import re\n",
    "\n",
    "# # Keep only Arabic letters and spaces in each review\n",
    "df['review'] = df['review'].apply(lambda x: re.sub(r'[^\\u0600-\\u06FF\\s]', '', x))\n",
    "\n",
    "df = df[df['review'].str.strip() != \"\"]\n",
    "df = df.reset_index(drop=True)"
   ]
  },
  {
   "cell_type": "code",
   "execution_count": 337,
   "id": "026df408",
   "metadata": {},
   "outputs": [],
   "source": [
    "import re\n",
    "\n",
    "def normalize_elongated_words(text):\n",
    "    # Remove elongation\n",
    "    text = re.sub(r'(.)\\1+', r'\\1\\1', text)\n",
    "    return text\n",
    "\n",
    "df['review'] = df['review'].apply(normalize_elongated_words)\n"
   ]
  },
  {
   "cell_type": "code",
   "execution_count": 338,
   "id": "45069251",
   "metadata": {},
   "outputs": [],
   "source": [
    "from nltk.corpus import stopwords\n",
    "import re\n",
    "\n",
    "arabic_stopwords = set(stopwords.words('arabic'))\n",
    "\n",
    "def has_real_word(text):\n",
    "    words = re.findall(r'[\\u0600-\\u06FF]+', text)  # Extract Arabic words\n",
    "    return any(word in arabic_stopwords for word in words)\n",
    "\n",
    "df = df[df['review'].apply(has_real_word)]\n",
    "\n",
    "def is_gibberish(text):\n",
    "    words = text.split()\n",
    "    # If there are less than 2 words, or one very long \"word\" with no spaces\n",
    "    return len(words) < 2 or max(len(w) for w in words) > 20\n",
    "\n",
    "df = df[~df['review'].apply(is_gibberish)]\n",
    "\n",
    "\n",
    "df = df.reset_index(drop=True)"
   ]
  },
  {
   "cell_type": "code",
   "execution_count": 339,
   "id": "39d05d4e",
   "metadata": {},
   "outputs": [
    {
     "data": {
      "text/plain": [
       "rating\n",
       "1    10573\n",
       "5     9673\n",
       "4     1613\n",
       "3     1389\n",
       "2      822\n",
       "Name: count, dtype: int64"
      ]
     },
     "execution_count": 339,
     "metadata": {},
     "output_type": "execute_result"
    }
   ],
   "source": [
    "df['rating'].value_counts()"
   ]
  },
  {
   "cell_type": "code",
   "execution_count": 340,
   "id": "77c770cf",
   "metadata": {},
   "outputs": [
    {
     "data": {
      "text/plain": [
       "sentiment\n",
       "positive    12675\n",
       "negative    11395\n",
       "Name: count, dtype: int64"
      ]
     },
     "execution_count": 340,
     "metadata": {},
     "output_type": "execute_result"
    }
   ],
   "source": [
    "df['sentiment'].value_counts()"
   ]
  },
  {
   "cell_type": "code",
   "execution_count": 341,
   "id": "5b5388b8",
   "metadata": {},
   "outputs": [
    {
     "name": "stderr",
     "output_type": "stream",
     "text": [
      "[nltk_data] Downloading package stopwords to\n",
      "[nltk_data]     C:\\Users\\mw865\\AppData\\Roaming\\nltk_data...\n",
      "[nltk_data]   Package stopwords is already up-to-date!\n"
     ]
    }
   ],
   "source": [
    "import nltk\n",
    "nltk.download('stopwords')\n",
    "from nltk.corpus import stopwords\n",
    "\n",
    "stopwords = set(stopwords.words('arabic'))\n",
    "def remove_stopwords(text):\n",
    "    words = text.split()\n",
    "    filtered = [w for w in words if w not in stopwords]\n",
    "    return ' '.join(filtered)\n",
    "\n",
    "df['clean_review'] = df['review'].apply(remove_stopwords)"
   ]
  },
  {
   "cell_type": "code",
   "execution_count": 342,
   "id": "b9a928a1",
   "metadata": {},
   "outputs": [
    {
     "data": {
      "text/html": [
       "<div>\n",
       "<style scoped>\n",
       "    .dataframe tbody tr th:only-of-type {\n",
       "        vertical-align: middle;\n",
       "    }\n",
       "\n",
       "    .dataframe tbody tr th {\n",
       "        vertical-align: top;\n",
       "    }\n",
       "\n",
       "    .dataframe thead th {\n",
       "        text-align: right;\n",
       "    }\n",
       "</style>\n",
       "<table border=\"1\" class=\"dataframe\">\n",
       "  <thead>\n",
       "    <tr style=\"text-align: right;\">\n",
       "      <th></th>\n",
       "      <th>rating</th>\n",
       "      <th>review</th>\n",
       "      <th>sentiment</th>\n",
       "      <th>clean_review</th>\n",
       "    </tr>\n",
       "  </thead>\n",
       "  <tbody>\n",
       "    <tr>\n",
       "      <th>0</th>\n",
       "      <td>1</td>\n",
       "      <td>سحبو للمره الثانيه رصيد من البطاقه و لغو الطلب...</td>\n",
       "      <td>negative</td>\n",
       "      <td>سحبو للمره الثانيه رصيد البطاقه لغو الطلب رجعو...</td>\n",
       "    </tr>\n",
       "    <tr>\n",
       "      <th>1</th>\n",
       "      <td>1</td>\n",
       "      <td>والله ما انصح بطلبات ما عندهم مصدقيه بالوقت بس...</td>\n",
       "      <td>negative</td>\n",
       "      <td>والله انصح بطلبات عندهم مصدقيه بالوقت البرنامج...</td>\n",
       "    </tr>\n",
       "    <tr>\n",
       "      <th>2</th>\n",
       "      <td>4</td>\n",
       "      <td>اوحش حاجه زياده الاسعار عن اماكن اخري</td>\n",
       "      <td>positive</td>\n",
       "      <td>اوحش حاجه زياده الاسعار اماكن اخري</td>\n",
       "    </tr>\n",
       "    <tr>\n",
       "      <th>3</th>\n",
       "      <td>5</td>\n",
       "      <td>اليوم قمت باجراء طلبين وتم سحب المبلغ والي الا...</td>\n",
       "      <td>positive</td>\n",
       "      <td>اليوم قمت باجراء طلبين وتم سحب المبلغ والي الا...</td>\n",
       "    </tr>\n",
       "    <tr>\n",
       "      <th>4</th>\n",
       "      <td>4</td>\n",
       "      <td>لوسمحت انا كنت منزال التطبيق علي تلفوني وضاع م...</td>\n",
       "      <td>positive</td>\n",
       "      <td>لوسمحت انا كنت منزال التطبيق علي تلفوني وضاع م...</td>\n",
       "    </tr>\n",
       "    <tr>\n",
       "      <th>...</th>\n",
       "      <td>...</td>\n",
       "      <td>...</td>\n",
       "      <td>...</td>\n",
       "      <td>...</td>\n",
       "    </tr>\n",
       "    <tr>\n",
       "      <th>24065</th>\n",
       "      <td>5</td>\n",
       "      <td>حييل سهل وحلو والمطاعم كثيره الله يعطيكم العاف...</td>\n",
       "      <td>positive</td>\n",
       "      <td>حييل سهل وحلو والمطاعم كثيره الله يعطيكم العاف...</td>\n",
       "    </tr>\n",
       "    <tr>\n",
       "      <th>24066</th>\n",
       "      <td>5</td>\n",
       "      <td>الصدق برنامج بقمت الروعه ومتعوب عليه يكفيكم ان...</td>\n",
       "      <td>positive</td>\n",
       "      <td>الصدق برنامج بقمت الروعه ومتعوب يكفيكم انه خدم...</td>\n",
       "    </tr>\n",
       "    <tr>\n",
       "      <th>24067</th>\n",
       "      <td>5</td>\n",
       "      <td>البرنامج خرافي ،وبصراحه تعليقات الاخوان سليمه ...</td>\n",
       "      <td>positive</td>\n",
       "      <td>البرنامج خرافي ،وبصراحه تعليقات الاخوان سليمه ...</td>\n",
       "    </tr>\n",
       "    <tr>\n",
       "      <th>24068</th>\n",
       "      <td>4</td>\n",
       "      <td>راءع جدا للمدن الكبيره، فقط لو يزيد عدد المطاع...</td>\n",
       "      <td>positive</td>\n",
       "      <td>راءع جدا للمدن الكبيره، فقط يزيد عدد المطاعم و...</td>\n",
       "    </tr>\n",
       "    <tr>\n",
       "      <th>24069</th>\n",
       "      <td>5</td>\n",
       "      <td>ولكن ياليت لو كل الاكلات مدعومه بالصور بالذات ...</td>\n",
       "      <td>positive</td>\n",
       "      <td>ياليت الاكلات مدعومه بالصور بالذات الاكلات الغ...</td>\n",
       "    </tr>\n",
       "  </tbody>\n",
       "</table>\n",
       "<p>24070 rows × 4 columns</p>\n",
       "</div>"
      ],
      "text/plain": [
       "       rating                                             review sentiment  \\\n",
       "0           1  سحبو للمره الثانيه رصيد من البطاقه و لغو الطلب...  negative   \n",
       "1           1  والله ما انصح بطلبات ما عندهم مصدقيه بالوقت بس...  negative   \n",
       "2           4              اوحش حاجه زياده الاسعار عن اماكن اخري  positive   \n",
       "3           5  اليوم قمت باجراء طلبين وتم سحب المبلغ والي الا...  positive   \n",
       "4           4  لوسمحت انا كنت منزال التطبيق علي تلفوني وضاع م...  positive   \n",
       "...       ...                                                ...       ...   \n",
       "24065       5  حييل سهل وحلو والمطاعم كثيره الله يعطيكم العاف...  positive   \n",
       "24066       5  الصدق برنامج بقمت الروعه ومتعوب عليه يكفيكم ان...  positive   \n",
       "24067       5  البرنامج خرافي ،وبصراحه تعليقات الاخوان سليمه ...  positive   \n",
       "24068       4  راءع جدا للمدن الكبيره، فقط لو يزيد عدد المطاع...  positive   \n",
       "24069       5  ولكن ياليت لو كل الاكلات مدعومه بالصور بالذات ...  positive   \n",
       "\n",
       "                                            clean_review  \n",
       "0      سحبو للمره الثانيه رصيد البطاقه لغو الطلب رجعو...  \n",
       "1      والله انصح بطلبات عندهم مصدقيه بالوقت البرنامج...  \n",
       "2                     اوحش حاجه زياده الاسعار اماكن اخري  \n",
       "3      اليوم قمت باجراء طلبين وتم سحب المبلغ والي الا...  \n",
       "4      لوسمحت انا كنت منزال التطبيق علي تلفوني وضاع م...  \n",
       "...                                                  ...  \n",
       "24065  حييل سهل وحلو والمطاعم كثيره الله يعطيكم العاف...  \n",
       "24066  الصدق برنامج بقمت الروعه ومتعوب يكفيكم انه خدم...  \n",
       "24067  البرنامج خرافي ،وبصراحه تعليقات الاخوان سليمه ...  \n",
       "24068  راءع جدا للمدن الكبيره، فقط يزيد عدد المطاعم و...  \n",
       "24069  ياليت الاكلات مدعومه بالصور بالذات الاكلات الغ...  \n",
       "\n",
       "[24070 rows x 4 columns]"
      ]
     },
     "execution_count": 342,
     "metadata": {},
     "output_type": "execute_result"
    }
   ],
   "source": [
    "df"
   ]
  },
  {
   "cell_type": "code",
   "execution_count": 343,
   "id": "368399c7",
   "metadata": {},
   "outputs": [],
   "source": [
    "df.to_csv(r'C:\\Users\\mw865\\Desktop\\NTI_Project\\data\\processed\\cleaned_data.csv' , index=False , encoding='utf-8-sig')"
   ]
  }
 ],
 "metadata": {
  "kernelspec": {
   "display_name": "Python 3",
   "language": "python",
   "name": "python3"
  },
  "language_info": {
   "codemirror_mode": {
    "name": "ipython",
    "version": 3
   },
   "file_extension": ".py",
   "mimetype": "text/x-python",
   "name": "python",
   "nbconvert_exporter": "python",
   "pygments_lexer": "ipython3",
   "version": "3.13.2"
  }
 },
 "nbformat": 4,
 "nbformat_minor": 5
}
